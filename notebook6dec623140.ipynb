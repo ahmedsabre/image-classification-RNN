{
 "cells": [
  {
   "cell_type": "code",
   "execution_count": 1,
   "id": "711f219c",
   "metadata": {
    "_cell_guid": "b1076dfc-b9ad-4769-8c92-a6c4dae69d19",
    "_uuid": "8f2839f25d086af736a60e9eeb907d3b93b6e0e5",
    "execution": {
     "iopub.execute_input": "2023-03-05T09:29:37.681098Z",
     "iopub.status.busy": "2023-03-05T09:29:37.680256Z",
     "iopub.status.idle": "2023-03-05T09:29:37.692857Z",
     "shell.execute_reply": "2023-03-05T09:29:37.691945Z"
    },
    "papermill": {
     "duration": 0.020889,
     "end_time": "2023-03-05T09:29:37.695193",
     "exception": false,
     "start_time": "2023-03-05T09:29:37.674304",
     "status": "completed"
    },
    "tags": []
   },
   "outputs": [],
   "source": [
    "# This Python 3 environment comes with many helpful analytics libraries installed\n",
    "# It is defined by the kaggle/python Docker image: https://github.com/kaggle/docker-python\n",
    "# For example, here's several helpful packages to load\n",
    "\n",
    "import numpy as np # linear algebra\n",
    "import pandas as pd # data processing, CSV file I/O (e.g. pd.read_csv)\n",
    "\n",
    "# Input data files are available in the read-only \"../input/\" directory\n",
    "# For example, running this (by clicking run or pressing Shift+Enter) will list all files under the input directory\n",
    "\n",
    "import os\n",
    "for dirname, _, filenames in os.walk('/kaggle/input'):\n",
    "    for filename in filenames:\n",
    "        print(os.path.join(dirname, filename))\n",
    "\n",
    "# You can write up to 20GB to the current directory (/kaggle/working/) that gets preserved as output when you create a version using \"Save & Run All\" \n",
    "# You can also write temporary files to /kaggle/temp/, but they won't be saved outside of the current session"
   ]
  },
  {
   "cell_type": "code",
   "execution_count": 2,
   "id": "bd856d2d",
   "metadata": {
    "execution": {
     "iopub.execute_input": "2023-03-05T09:29:37.702730Z",
     "iopub.status.busy": "2023-03-05T09:29:37.701828Z",
     "iopub.status.idle": "2023-03-05T09:29:51.879529Z",
     "shell.execute_reply": "2023-03-05T09:29:51.878354Z"
    },
    "papermill": {
     "duration": 14.18413,
     "end_time": "2023-03-05T09:29:51.882324",
     "exception": false,
     "start_time": "2023-03-05T09:29:37.698194",
     "status": "completed"
    },
    "tags": []
   },
   "outputs": [],
   "source": [
    "import tensorflow as tf\n",
    "from tensorflow.keras.models import Sequential\n",
    "from tensorflow.keras.layers import Dense,Dropout,LSTM"
   ]
  },
  {
   "cell_type": "markdown",
   "id": "098f6a2c",
   "metadata": {
    "papermill": {
     "duration": 0.00269,
     "end_time": "2023-03-05T09:29:51.888061",
     "exception": false,
     "start_time": "2023-03-05T09:29:51.885371",
     "status": "completed"
    },
    "tags": []
   },
   "source": [
    "# importing data"
   ]
  },
  {
   "cell_type": "code",
   "execution_count": 3,
   "id": "6d05e05d",
   "metadata": {
    "execution": {
     "iopub.execute_input": "2023-03-05T09:29:51.897046Z",
     "iopub.status.busy": "2023-03-05T09:29:51.894765Z",
     "iopub.status.idle": "2023-03-05T09:29:52.321447Z",
     "shell.execute_reply": "2023-03-05T09:29:52.320349Z"
    },
    "papermill": {
     "duration": 0.433084,
     "end_time": "2023-03-05T09:29:52.323878",
     "exception": false,
     "start_time": "2023-03-05T09:29:51.890794",
     "status": "completed"
    },
    "tags": []
   },
   "outputs": [
    {
     "name": "stdout",
     "output_type": "stream",
     "text": [
      "Downloading data from https://storage.googleapis.com/tensorflow/tf-keras-datasets/mnist.npz\n",
      "11490434/11490434 [==============================] - 0s 0us/step\n"
     ]
    }
   ],
   "source": [
    "mnist=tf.keras.datasets.mnist\n",
    "(X_train,y_train),(X_test,y_test)=mnist.load_data()"
   ]
  },
  {
   "cell_type": "markdown",
   "id": "ad8f249e",
   "metadata": {
    "papermill": {
     "duration": 0.003034,
     "end_time": "2023-03-05T09:29:52.330428",
     "exception": false,
     "start_time": "2023-03-05T09:29:52.327394",
     "status": "completed"
    },
    "tags": []
   },
   "source": [
    "# scaling data"
   ]
  },
  {
   "cell_type": "code",
   "execution_count": 4,
   "id": "654e8964",
   "metadata": {
    "execution": {
     "iopub.execute_input": "2023-03-05T09:29:52.339680Z",
     "iopub.status.busy": "2023-03-05T09:29:52.337693Z",
     "iopub.status.idle": "2023-03-05T09:29:52.486664Z",
     "shell.execute_reply": "2023-03-05T09:29:52.485357Z"
    },
    "papermill": {
     "duration": 0.15625,
     "end_time": "2023-03-05T09:29:52.489806",
     "exception": false,
     "start_time": "2023-03-05T09:29:52.333556",
     "status": "completed"
    },
    "tags": []
   },
   "outputs": [],
   "source": [
    "X_train=X_train/255\n",
    "X_test=X_test/255"
   ]
  },
  {
   "cell_type": "markdown",
   "id": "0028f4c6",
   "metadata": {
    "papermill": {
     "duration": 0.003202,
     "end_time": "2023-03-05T09:29:52.496689",
     "exception": false,
     "start_time": "2023-03-05T09:29:52.493487",
     "status": "completed"
    },
    "tags": []
   },
   "source": [
    "# importing CUDNNLSTM model"
   ]
  },
  {
   "cell_type": "code",
   "execution_count": 5,
   "id": "e6099e12",
   "metadata": {
    "execution": {
     "iopub.execute_input": "2023-03-05T09:29:52.504994Z",
     "iopub.status.busy": "2023-03-05T09:29:52.504606Z",
     "iopub.status.idle": "2023-03-05T09:29:53.060431Z",
     "shell.execute_reply": "2023-03-05T09:29:53.059361Z"
    },
    "papermill": {
     "duration": 0.56292,
     "end_time": "2023-03-05T09:29:53.062921",
     "exception": false,
     "start_time": "2023-03-05T09:29:52.500001",
     "status": "completed"
    },
    "tags": []
   },
   "outputs": [],
   "source": [
    "tf.compat.v1.keras.layers.CuDNNLSTM\n",
    "CUDNNLSTM=tf.compat.v1.keras.layers.CuDNNLSTM"
   ]
  },
  {
   "cell_type": "markdown",
   "id": "3336653f",
   "metadata": {
    "papermill": {
     "duration": 0.002955,
     "end_time": "2023-03-05T09:29:53.069300",
     "exception": false,
     "start_time": "2023-03-05T09:29:53.066345",
     "status": "completed"
    },
    "tags": []
   },
   "source": [
    "# using RNN MODEL"
   ]
  },
  {
   "cell_type": "code",
   "execution_count": 6,
   "id": "df1546bf",
   "metadata": {
    "execution": {
     "iopub.execute_input": "2023-03-05T09:29:53.076390Z",
     "iopub.status.busy": "2023-03-05T09:29:53.076106Z",
     "iopub.status.idle": "2023-03-05T09:30:59.011304Z",
     "shell.execute_reply": "2023-03-05T09:30:59.010253Z"
    },
    "papermill": {
     "duration": 65.941276,
     "end_time": "2023-03-05T09:30:59.013505",
     "exception": false,
     "start_time": "2023-03-05T09:29:53.072229",
     "status": "completed"
    },
    "tags": []
   },
   "outputs": [
    {
     "name": "stdout",
     "output_type": "stream",
     "text": [
      "Epoch 1/3\n",
      "1875/1875 [==============================] - 28s 9ms/step - loss: 0.4087 - accuracy: 0.8755 - val_loss: 0.1150 - val_accuracy: 0.9658\n",
      "Epoch 2/3\n",
      "1875/1875 [==============================] - 15s 8ms/step - loss: 0.1222 - accuracy: 0.9680 - val_loss: 0.0742 - val_accuracy: 0.9772\n",
      "Epoch 3/3\n",
      "1875/1875 [==============================] - 17s 9ms/step - loss: 0.0847 - accuracy: 0.9774 - val_loss: 0.0664 - val_accuracy: 0.9816\n"
     ]
    },
    {
     "data": {
      "text/plain": [
       "<keras.callbacks.History at 0x7f667125c890>"
      ]
     },
     "execution_count": 6,
     "metadata": {},
     "output_type": "execute_result"
    }
   ],
   "source": [
    "model=Sequential()\n",
    "#using CUDNNLSTM to accelerating the process and with CUDNNLSTM dont using activation function\n",
    "model.add(CUDNNLSTM(128,input_shape=(X_train.shape[1:]),return_sequences=True))\n",
    "#using dropout to avoid overfitting\n",
    "model.add(Dropout(.2))\n",
    "model.add(CUDNNLSTM(128))\n",
    "model.add(Dropout(.2))\n",
    "model.add(Dense(32,activation='relu'))\n",
    "model.add(Dropout(.2))\n",
    "#using softmax because we have more than 2 output classes\n",
    "model.add(Dense(10,activation='softmax'))\n",
    "opt=tf.keras.optimizers.Adam(lr=1e-3,weight_decay=1e-5)\n",
    "model.compile(loss='sparse_categorical_crossentropy',optimizer=opt,metrics=['accuracy'])\n",
    "model.fit(X_train,y_train,epochs=3,validation_data=(X_test,y_test))"
   ]
  },
  {
   "cell_type": "markdown",
   "id": "40c261a3",
   "metadata": {
    "papermill": {
     "duration": 0.043524,
     "end_time": "2023-03-05T09:30:59.101881",
     "exception": false,
     "start_time": "2023-03-05T09:30:59.058357",
     "status": "completed"
    },
    "tags": []
   },
   "source": [
    "# evaluating the testing data to see accuracy"
   ]
  },
  {
   "cell_type": "code",
   "execution_count": 7,
   "id": "381cf43e",
   "metadata": {
    "execution": {
     "iopub.execute_input": "2023-03-05T09:30:59.191551Z",
     "iopub.status.busy": "2023-03-05T09:30:59.190830Z",
     "iopub.status.idle": "2023-03-05T09:31:00.672433Z",
     "shell.execute_reply": "2023-03-05T09:31:00.671260Z"
    },
    "papermill": {
     "duration": 1.529352,
     "end_time": "2023-03-05T09:31:00.675104",
     "exception": false,
     "start_time": "2023-03-05T09:30:59.145752",
     "status": "completed"
    },
    "tags": []
   },
   "outputs": [
    {
     "name": "stdout",
     "output_type": "stream",
     "text": [
      "313/313 [==============================] - 1s 4ms/step - loss: 0.0664 - accuracy: 0.9816\n"
     ]
    },
    {
     "data": {
      "text/plain": [
       "[0.0663704052567482, 0.9815999865531921]"
      ]
     },
     "execution_count": 7,
     "metadata": {},
     "output_type": "execute_result"
    }
   ],
   "source": [
    "model.evaluate(X_test,y_test)"
   ]
  }
 ],
 "metadata": {
  "kernelspec": {
   "display_name": "Python 3",
   "language": "python",
   "name": "python3"
  },
  "language_info": {
   "codemirror_mode": {
    "name": "ipython",
    "version": 3
   },
   "file_extension": ".py",
   "mimetype": "text/x-python",
   "name": "python",
   "nbconvert_exporter": "python",
   "pygments_lexer": "ipython3",
   "version": "3.7.12"
  },
  "papermill": {
   "default_parameters": {},
   "duration": 98.842998,
   "end_time": "2023-03-05T09:31:03.655168",
   "environment_variables": {},
   "exception": null,
   "input_path": "__notebook__.ipynb",
   "output_path": "__notebook__.ipynb",
   "parameters": {},
   "start_time": "2023-03-05T09:29:24.812170",
   "version": "2.4.0"
  }
 },
 "nbformat": 4,
 "nbformat_minor": 5
}
